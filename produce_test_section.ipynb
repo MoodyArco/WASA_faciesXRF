{
 "cells": [
  {
   "cell_type": "markdown",
   "metadata": {},
   "source": [
    "To randomly produce a section in each facies in the test set."
   ]
  },
  {
   "cell_type": "code",
   "execution_count": 1,
   "metadata": {},
   "outputs": [],
   "source": [
    "import numpy as np \n",
    "import pandas as pd\n",
    "from split import my_train_test_split\n",
    "path = '/home/users/aslee/WASA_faciesXRF/'"
   ]
  },
  {
   "cell_type": "code",
   "execution_count": 2,
   "metadata": {},
   "outputs": [],
   "source": [
    "data_df = pd.read_csv('{}data/XRF_ML_cr.csv'.format(path))\n",
    "y = data_df['facies_merge_2'].values\n",
    "groups = data_df['core_section'].values\n",
    "\n",
    "train_idx, test_idx = my_train_test_split(y, groups)"
   ]
  },
  {
   "cell_type": "code",
   "execution_count": 3,
   "metadata": {},
   "outputs": [
    {
     "data": {
      "text/html": [
       "<div>\n",
       "<style scoped>\n",
       "    .dataframe tbody tr th:only-of-type {\n",
       "        vertical-align: middle;\n",
       "    }\n",
       "\n",
       "    .dataframe tbody tr th {\n",
       "        vertical-align: top;\n",
       "    }\n",
       "\n",
       "    .dataframe thead th {\n",
       "        text-align: right;\n",
       "    }\n",
       "</style>\n",
       "<table border=\"1\" class=\"dataframe\">\n",
       "  <thead>\n",
       "    <tr style=\"text-align: right;\">\n",
       "      <th></th>\n",
       "      <th>y</th>\n",
       "      <th>section</th>\n",
       "    </tr>\n",
       "  </thead>\n",
       "  <tbody>\n",
       "    <tr>\n",
       "      <th>0</th>\n",
       "      <td>1</td>\n",
       "      <td>N12-2</td>\n",
       "    </tr>\n",
       "    <tr>\n",
       "      <th>1</th>\n",
       "      <td>1</td>\n",
       "      <td>N12-2</td>\n",
       "    </tr>\n",
       "    <tr>\n",
       "      <th>2</th>\n",
       "      <td>1</td>\n",
       "      <td>N12-2</td>\n",
       "    </tr>\n",
       "    <tr>\n",
       "      <th>3</th>\n",
       "      <td>1</td>\n",
       "      <td>N12-2</td>\n",
       "    </tr>\n",
       "    <tr>\n",
       "      <th>4</th>\n",
       "      <td>1</td>\n",
       "      <td>N12-2</td>\n",
       "    </tr>\n",
       "    <tr>\n",
       "      <th>...</th>\n",
       "      <td>...</td>\n",
       "      <td>...</td>\n",
       "    </tr>\n",
       "    <tr>\n",
       "      <th>22482</th>\n",
       "      <td>6</td>\n",
       "      <td>W5-1</td>\n",
       "    </tr>\n",
       "    <tr>\n",
       "      <th>22483</th>\n",
       "      <td>6</td>\n",
       "      <td>W5-1</td>\n",
       "    </tr>\n",
       "    <tr>\n",
       "      <th>22484</th>\n",
       "      <td>6</td>\n",
       "      <td>W5-1</td>\n",
       "    </tr>\n",
       "    <tr>\n",
       "      <th>22485</th>\n",
       "      <td>6</td>\n",
       "      <td>W5-1</td>\n",
       "    </tr>\n",
       "    <tr>\n",
       "      <th>22486</th>\n",
       "      <td>6</td>\n",
       "      <td>W5-1</td>\n",
       "    </tr>\n",
       "  </tbody>\n",
       "</table>\n",
       "<p>22487 rows × 2 columns</p>\n",
       "</div>"
      ],
      "text/plain": [
       "       y section\n",
       "0      1   N12-2\n",
       "1      1   N12-2\n",
       "2      1   N12-2\n",
       "3      1   N12-2\n",
       "4      1   N12-2\n",
       "...   ..     ...\n",
       "22482  6    W5-1\n",
       "22483  6    W5-1\n",
       "22484  6    W5-1\n",
       "22485  6    W5-1\n",
       "22486  6    W5-1\n",
       "\n",
       "[22487 rows x 2 columns]"
      ]
     },
     "execution_count": 3,
     "metadata": {},
     "output_type": "execute_result"
    }
   ],
   "source": [
    "test_df = pd.DataFrame({'y': y[test_idx], 'section': groups[test_idx]})\n",
    "test_df"
   ]
  },
  {
   "cell_type": "code",
   "execution_count": 4,
   "metadata": {},
   "outputs": [
    {
     "data": {
      "text/plain": [
       "['Shoreface',\n",
       " 'Channel',\n",
       " 'Beach-foreshore',\n",
       " 'Sand flat',\n",
       " 'Mud flat',\n",
       " 'Lagoon',\n",
       " 'Peat',\n",
       " 'Soil',\n",
       " 'Eolian/fluvial (w)',\n",
       " 'Shallow marine',\n",
       " 'Moraine',\n",
       " 'Eolian/fluvial']"
      ]
     },
     "execution_count": 4,
     "metadata": {},
     "output_type": "execute_result"
    }
   ],
   "source": [
    "facies = ['shoreface', 'channel', 'beach-foreshore', 'sand flat', 'mud flat',\n",
    "       'lagoon', 'peat', 'soil', 'eolian/fluvial (W)',\n",
    "       'shallow marine', 'moraine', 'eolian/fluvial']\n",
    "\n",
    "Facies = []\n",
    "for fa in facies:\n",
    "    Facies.append(fa.capitalize())\n",
    "\n",
    "Facies"
   ]
  },
  {
   "cell_type": "code",
   "execution_count": 6,
   "metadata": {},
   "outputs": [],
   "source": [
    "from numpy.random import default_rng\n",
    "rng = default_rng(24)\n",
    "\n",
    "section_list = []\n",
    "facies_list = []\n",
    "\n",
    "for label in test_df.y.unique():\n",
    "    section_list.append(\n",
    "        rng.choice(test_df.loc[test_df.y == label, 'section'])\n",
    "    )\n",
    "    facies_list.append(Facies[label])\n",
    "    \n",
    "select_df = pd.DataFrame({'facies': facies_list, 'section': section_list})"
   ]
  },
  {
   "cell_type": "code",
   "execution_count": 7,
   "metadata": {},
   "outputs": [
    {
     "data": {
      "text/html": [
       "<div>\n",
       "<style scoped>\n",
       "    .dataframe tbody tr th:only-of-type {\n",
       "        vertical-align: middle;\n",
       "    }\n",
       "\n",
       "    .dataframe tbody tr th {\n",
       "        vertical-align: top;\n",
       "    }\n",
       "\n",
       "    .dataframe thead th {\n",
       "        text-align: right;\n",
       "    }\n",
       "</style>\n",
       "<table border=\"1\" class=\"dataframe\">\n",
       "  <thead>\n",
       "    <tr style=\"text-align: right;\">\n",
       "      <th></th>\n",
       "      <th>facies</th>\n",
       "      <th>section</th>\n",
       "    </tr>\n",
       "  </thead>\n",
       "  <tbody>\n",
       "    <tr>\n",
       "      <th>0</th>\n",
       "      <td>Channel</td>\n",
       "      <td>N44-2</td>\n",
       "    </tr>\n",
       "    <tr>\n",
       "      <th>1</th>\n",
       "      <td>Shallow marine</td>\n",
       "      <td>N85-1</td>\n",
       "    </tr>\n",
       "    <tr>\n",
       "      <th>2</th>\n",
       "      <td>Moraine</td>\n",
       "      <td>N72-3</td>\n",
       "    </tr>\n",
       "    <tr>\n",
       "      <th>3</th>\n",
       "      <td>Eolian/fluvial</td>\n",
       "      <td>N24B-2</td>\n",
       "    </tr>\n",
       "    <tr>\n",
       "      <th>4</th>\n",
       "      <td>Lagoon</td>\n",
       "      <td>N78-4</td>\n",
       "    </tr>\n",
       "    <tr>\n",
       "      <th>5</th>\n",
       "      <td>Peat</td>\n",
       "      <td>N78-4</td>\n",
       "    </tr>\n",
       "    <tr>\n",
       "      <th>6</th>\n",
       "      <td>Soil</td>\n",
       "      <td>N23-4</td>\n",
       "    </tr>\n",
       "    <tr>\n",
       "      <th>7</th>\n",
       "      <td>Eolian/fluvial (w)</td>\n",
       "      <td>VVC16-2</td>\n",
       "    </tr>\n",
       "    <tr>\n",
       "      <th>8</th>\n",
       "      <td>Sand flat</td>\n",
       "      <td>N43-3</td>\n",
       "    </tr>\n",
       "    <tr>\n",
       "      <th>9</th>\n",
       "      <td>Mud flat</td>\n",
       "      <td>N52-3</td>\n",
       "    </tr>\n",
       "    <tr>\n",
       "      <th>10</th>\n",
       "      <td>Shoreface</td>\n",
       "      <td>N84-4</td>\n",
       "    </tr>\n",
       "    <tr>\n",
       "      <th>11</th>\n",
       "      <td>Beach-foreshore</td>\n",
       "      <td>VVC19-3</td>\n",
       "    </tr>\n",
       "  </tbody>\n",
       "</table>\n",
       "</div>"
      ],
      "text/plain": [
       "                facies  section\n",
       "0              Channel    N44-2\n",
       "1       Shallow marine    N85-1\n",
       "2              Moraine    N72-3\n",
       "3       Eolian/fluvial   N24B-2\n",
       "4               Lagoon    N78-4\n",
       "5                 Peat    N78-4\n",
       "6                 Soil    N23-4\n",
       "7   Eolian/fluvial (w)  VVC16-2\n",
       "8            Sand flat    N43-3\n",
       "9             Mud flat    N52-3\n",
       "10           Shoreface    N84-4\n",
       "11     Beach-foreshore  VVC19-3"
      ]
     },
     "execution_count": 7,
     "metadata": {},
     "output_type": "execute_result"
    }
   ],
   "source": [
    "select_df"
   ]
  },
  {
   "cell_type": "code",
   "execution_count": 8,
   "metadata": {},
   "outputs": [],
   "source": [
    "select_df.to_csv('results/OneSectionInEachFaice_testset.csv')"
   ]
  }
 ],
 "metadata": {
  "kernelspec": {
   "display_name": "Python 3",
   "language": "python",
   "name": "python3"
  },
  "language_info": {
   "codemirror_mode": {
    "name": "ipython",
    "version": 3
   },
   "file_extension": ".py",
   "mimetype": "text/x-python",
   "name": "python",
   "nbconvert_exporter": "python",
   "pygments_lexer": "ipython3",
   "version": "3.7.7"
  }
 },
 "nbformat": 4,
 "nbformat_minor": 4
}
