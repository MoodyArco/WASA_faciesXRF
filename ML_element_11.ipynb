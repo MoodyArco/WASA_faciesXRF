{
 "cells": [
  {
   "cell_type": "markdown",
   "metadata": {},
   "source": [
    "Develope image-like dataset."
   ]
  },
  {
   "cell_type": "code",
   "execution_count": 1,
   "metadata": {},
   "outputs": [],
   "source": [
    "import numpy as np \n",
    "import pandas as pd\n",
    "import matplotlib.pyplot as plt\n",
    "import seaborn as sns\n",
    "\n",
    "plt.style.use('ggplot')\n",
    "plt.style.use('seaborn-colorblind')\n",
    "#mpl.rcParams['xtick.labelsize'] = 8\n",
    "#mpl.rcParams[\"image.cmap\"] = 'gray'\n",
    "plt.rcParams['figure.dpi'] = 300\n",
    "plt.rcParams['savefig.dpi'] = 300\n",
    "plt.rcParams['savefig.bbox'] = 'tight'\n",
    "\n",
    "import datetime\n",
    "date = datetime.datetime.now().strftime('%Y%m%d')\n",
    "\n",
    "%matplotlib inline"
   ]
  },
  {
   "cell_type": "code",
   "execution_count": 3,
   "metadata": {},
   "outputs": [
    {
     "data": {
      "text/plain": [
       "(153357, 204)"
      ]
     },
     "execution_count": 3,
     "metadata": {},
     "output_type": "execute_result"
    }
   ],
   "source": [
    "path = '/home/users/aslee/WASA_faciesXRF/'\n",
    "X = np.genfromtxt('{}data/XRF_ML_ravel_X.csv'.format(path), delimiter=',')\n",
    "y = np.genfromtxt('{}data/XRF_ML_ravel_y.csv'.format(path), delimiter=',')\n",
    "groups = np.genfromtxt('{}data/XRF_ML_ravel_g.csv'.format(path), delimiter=',')\n",
    "X.shape\n",
    "groups.shape"
   ]
  },
  {
   "cell_type": "code",
   "execution_count": 4,
   "metadata": {},
   "outputs": [
    {
     "data": {
      "text/plain": [
       "(153357, 27)"
      ]
     },
     "execution_count": 4,
     "metadata": {},
     "output_type": "execute_result"
    }
   ],
   "source": [
    "data_df = pd.read_csv('data/XRF_ML_cr.csv')\n",
    "data_df.shape"
   ]
  },
  {
   "cell_type": "markdown",
   "metadata": {},
   "source": [
    "# Read raw data"
   ]
  },
  {
   "cell_type": "code",
   "execution_count": 3,
   "metadata": {},
   "outputs": [
    {
     "data": {
      "text/html": [
       "<div>\n",
       "<style scoped>\n",
       "    .dataframe tbody tr th:only-of-type {\n",
       "        vertical-align: middle;\n",
       "    }\n",
       "\n",
       "    .dataframe tbody tr th {\n",
       "        vertical-align: top;\n",
       "    }\n",
       "\n",
       "    .dataframe thead th {\n",
       "        text-align: right;\n",
       "    }\n",
       "</style>\n",
       "<table border=\"1\" class=\"dataframe\">\n",
       "  <thead>\n",
       "    <tr style=\"text-align: right;\">\n",
       "      <th></th>\n",
       "      <th>composite_id</th>\n",
       "      <th>composite_depth_mm</th>\n",
       "      <th>core_id</th>\n",
       "      <th>core_section</th>\n",
       "      <th>section_depth_mm</th>\n",
       "      <th>facies_merge_2</th>\n",
       "      <th>Ba</th>\n",
       "      <th>Br</th>\n",
       "      <th>Ca</th>\n",
       "      <th>Cl</th>\n",
       "      <th>Fe</th>\n",
       "      <th>K</th>\n",
       "      <th>Rb</th>\n",
       "      <th>S</th>\n",
       "      <th>Si</th>\n",
       "      <th>Sr</th>\n",
       "      <th>Ti</th>\n",
       "      <th>Zr</th>\n",
       "    </tr>\n",
       "  </thead>\n",
       "  <tbody>\n",
       "    <tr>\n",
       "      <th>0</th>\n",
       "      <td>N10_00003</td>\n",
       "      <td>3</td>\n",
       "      <td>N10</td>\n",
       "      <td>N10-5</td>\n",
       "      <td>3.0</td>\n",
       "      <td>0</td>\n",
       "      <td>149</td>\n",
       "      <td>0</td>\n",
       "      <td>6327</td>\n",
       "      <td>674</td>\n",
       "      <td>2384</td>\n",
       "      <td>2693</td>\n",
       "      <td>124</td>\n",
       "      <td>57</td>\n",
       "      <td>5522</td>\n",
       "      <td>158</td>\n",
       "      <td>1408</td>\n",
       "      <td>1549</td>\n",
       "    </tr>\n",
       "    <tr>\n",
       "      <th>1</th>\n",
       "      <td>N10_00005</td>\n",
       "      <td>5</td>\n",
       "      <td>N10</td>\n",
       "      <td>N10-5</td>\n",
       "      <td>5.0</td>\n",
       "      <td>0</td>\n",
       "      <td>125</td>\n",
       "      <td>8</td>\n",
       "      <td>7200</td>\n",
       "      <td>643</td>\n",
       "      <td>2171</td>\n",
       "      <td>2795</td>\n",
       "      <td>170</td>\n",
       "      <td>40</td>\n",
       "      <td>5153</td>\n",
       "      <td>205</td>\n",
       "      <td>1025</td>\n",
       "      <td>1369</td>\n",
       "    </tr>\n",
       "    <tr>\n",
       "      <th>2</th>\n",
       "      <td>N10_00007</td>\n",
       "      <td>7</td>\n",
       "      <td>N10</td>\n",
       "      <td>N10-5</td>\n",
       "      <td>7.0</td>\n",
       "      <td>0</td>\n",
       "      <td>102</td>\n",
       "      <td>11</td>\n",
       "      <td>5992</td>\n",
       "      <td>596</td>\n",
       "      <td>1879</td>\n",
       "      <td>2673</td>\n",
       "      <td>131</td>\n",
       "      <td>7</td>\n",
       "      <td>5208</td>\n",
       "      <td>207</td>\n",
       "      <td>1225</td>\n",
       "      <td>1199</td>\n",
       "    </tr>\n",
       "    <tr>\n",
       "      <th>3</th>\n",
       "      <td>N10_00009</td>\n",
       "      <td>9</td>\n",
       "      <td>N10</td>\n",
       "      <td>N10-5</td>\n",
       "      <td>9.0</td>\n",
       "      <td>0</td>\n",
       "      <td>127</td>\n",
       "      <td>0</td>\n",
       "      <td>10409</td>\n",
       "      <td>598</td>\n",
       "      <td>2095</td>\n",
       "      <td>2751</td>\n",
       "      <td>98</td>\n",
       "      <td>13</td>\n",
       "      <td>5045</td>\n",
       "      <td>226</td>\n",
       "      <td>1758</td>\n",
       "      <td>968</td>\n",
       "    </tr>\n",
       "    <tr>\n",
       "      <th>4</th>\n",
       "      <td>N10_00011</td>\n",
       "      <td>11</td>\n",
       "      <td>N10</td>\n",
       "      <td>N10-5</td>\n",
       "      <td>11.0</td>\n",
       "      <td>0</td>\n",
       "      <td>144</td>\n",
       "      <td>30</td>\n",
       "      <td>13011</td>\n",
       "      <td>560</td>\n",
       "      <td>1997</td>\n",
       "      <td>2699</td>\n",
       "      <td>80</td>\n",
       "      <td>25</td>\n",
       "      <td>5082</td>\n",
       "      <td>252</td>\n",
       "      <td>1756</td>\n",
       "      <td>1334</td>\n",
       "    </tr>\n",
       "  </tbody>\n",
       "</table>\n",
       "</div>"
      ],
      "text/plain": [
       "  composite_id  composite_depth_mm core_id core_section  section_depth_mm  \\\n",
       "0    N10_00003                   3     N10        N10-5               3.0   \n",
       "1    N10_00005                   5     N10        N10-5               5.0   \n",
       "2    N10_00007                   7     N10        N10-5               7.0   \n",
       "3    N10_00009                   9     N10        N10-5               9.0   \n",
       "4    N10_00011                  11     N10        N10-5              11.0   \n",
       "\n",
       "   facies_merge_2   Ba  Br     Ca   Cl    Fe     K   Rb   S    Si   Sr    Ti  \\\n",
       "0               0  149   0   6327  674  2384  2693  124  57  5522  158  1408   \n",
       "1               0  125   8   7200  643  2171  2795  170  40  5153  205  1025   \n",
       "2               0  102  11   5992  596  1879  2673  131   7  5208  207  1225   \n",
       "3               0  127   0  10409  598  2095  2751   98  13  5045  226  1758   \n",
       "4               0  144  30  13011  560  1997  2699   80  25  5082  252  1756   \n",
       "\n",
       "     Zr  \n",
       "0  1549  \n",
       "1  1369  \n",
       "2  1199  \n",
       "3   968  \n",
       "4  1334  "
      ]
     },
     "execution_count": 3,
     "metadata": {},
     "output_type": "execute_result"
    }
   ],
   "source": [
    "data_df = pd.read_csv('data/XRF_ML.csv')\n",
    "data_df.head()"
   ]
  },
  {
   "cell_type": "code",
   "execution_count": 4,
   "metadata": {},
   "outputs": [
    {
     "data": {
      "text/plain": [
       "(158909, 18)"
      ]
     },
     "execution_count": 4,
     "metadata": {},
     "output_type": "execute_result"
    }
   ],
   "source": [
    "data_df.shape"
   ]
  },
  {
   "cell_type": "markdown",
   "metadata": {},
   "source": [
    "# Centred log-ratio transformation"
   ]
  },
  {
   "cell_type": "code",
   "execution_count": 4,
   "metadata": {},
   "outputs": [
    {
     "name": "stdout",
     "output_type": "stream",
     "text": [
      "(158909, 12)\n"
     ]
    }
   ],
   "source": [
    "from scipy.stats.mstats import gmean\n",
    "\n",
    "x = data_df.iloc[:, 6:].values\n",
    "# replace the zero to 1\n",
    "x = np.where(x == 0, 1, x) \n",
    "x = np.log(x / gmean(x, axis = 1).reshape(x.shape[0], 1))\n",
    "\n",
    "print(x.shape)"
   ]
  },
  {
   "cell_type": "code",
   "execution_count": 11,
   "metadata": {},
   "outputs": [
    {
     "data": {
      "text/html": [
       "<div>\n",
       "<style scoped>\n",
       "    .dataframe tbody tr th:only-of-type {\n",
       "        vertical-align: middle;\n",
       "    }\n",
       "\n",
       "    .dataframe tbody tr th {\n",
       "        vertical-align: top;\n",
       "    }\n",
       "\n",
       "    .dataframe thead th {\n",
       "        text-align: right;\n",
       "    }\n",
       "</style>\n",
       "<table border=\"1\" class=\"dataframe\">\n",
       "  <thead>\n",
       "    <tr style=\"text-align: right;\">\n",
       "      <th></th>\n",
       "      <th>Ba</th>\n",
       "      <th>Br</th>\n",
       "      <th>Ca</th>\n",
       "      <th>Cl</th>\n",
       "      <th>Fe</th>\n",
       "      <th>K</th>\n",
       "      <th>Rb</th>\n",
       "      <th>S</th>\n",
       "      <th>Si</th>\n",
       "      <th>Sr</th>\n",
       "      <th>Ti</th>\n",
       "      <th>Zr</th>\n",
       "      <th>composite_id</th>\n",
       "      <th>core_section</th>\n",
       "      <th>facies_merge_2</th>\n",
       "    </tr>\n",
       "  </thead>\n",
       "  <tbody>\n",
       "    <tr>\n",
       "      <th>0</th>\n",
       "      <td>-1.086255</td>\n",
       "      <td>-6.090201</td>\n",
       "      <td>2.662380</td>\n",
       "      <td>0.423029</td>\n",
       "      <td>1.686334</td>\n",
       "      <td>1.808210</td>\n",
       "      <td>-1.269920</td>\n",
       "      <td>-2.047150</td>\n",
       "      <td>2.526294</td>\n",
       "      <td>-1.027606</td>\n",
       "      <td>1.159724</td>\n",
       "      <td>1.255163</td>\n",
       "      <td>N10_00003</td>\n",
       "      <td>N10-5</td>\n",
       "      <td>0</td>\n",
       "    </tr>\n",
       "    <tr>\n",
       "      <th>1</th>\n",
       "      <td>-1.398651</td>\n",
       "      <td>-4.147523</td>\n",
       "      <td>2.654872</td>\n",
       "      <td>0.239180</td>\n",
       "      <td>1.455979</td>\n",
       "      <td>1.708623</td>\n",
       "      <td>-1.091166</td>\n",
       "      <td>-2.538085</td>\n",
       "      <td>2.320370</td>\n",
       "      <td>-0.903954</td>\n",
       "      <td>0.705483</td>\n",
       "      <td>0.994871</td>\n",
       "      <td>N10_00005</td>\n",
       "      <td>N10-5</td>\n",
       "      <td>0</td>\n",
       "    </tr>\n",
       "    <tr>\n",
       "      <th>2</th>\n",
       "      <td>-1.412732</td>\n",
       "      <td>-3.639810</td>\n",
       "      <td>2.660476</td>\n",
       "      <td>0.352536</td>\n",
       "      <td>1.500790</td>\n",
       "      <td>1.853252</td>\n",
       "      <td>-1.162507</td>\n",
       "      <td>-4.091795</td>\n",
       "      <td>2.520246</td>\n",
       "      <td>-0.704986</td>\n",
       "      <td>1.072991</td>\n",
       "      <td>1.051538</td>\n",
       "      <td>N10_00007</td>\n",
       "      <td>N10-5</td>\n",
       "      <td>0</td>\n",
       "    </tr>\n",
       "    <tr>\n",
       "      <th>3</th>\n",
       "      <td>-1.114063</td>\n",
       "      <td>-5.958250</td>\n",
       "      <td>3.292176</td>\n",
       "      <td>0.435341</td>\n",
       "      <td>1.689059</td>\n",
       "      <td>1.961470</td>\n",
       "      <td>-1.373283</td>\n",
       "      <td>-3.393301</td>\n",
       "      <td>2.567903</td>\n",
       "      <td>-0.537715</td>\n",
       "      <td>1.513682</td>\n",
       "      <td>0.916982</td>\n",
       "      <td>N10_00009</td>\n",
       "      <td>N10-5</td>\n",
       "      <td>0</td>\n",
       "    </tr>\n",
       "    <tr>\n",
       "      <th>4</th>\n",
       "      <td>-1.363775</td>\n",
       "      <td>-2.932391</td>\n",
       "      <td>3.139962</td>\n",
       "      <td>-0.005651</td>\n",
       "      <td>1.265813</td>\n",
       "      <td>1.567048</td>\n",
       "      <td>-1.951562</td>\n",
       "      <td>-3.114712</td>\n",
       "      <td>2.199872</td>\n",
       "      <td>-0.804159</td>\n",
       "      <td>1.137206</td>\n",
       "      <td>0.862349</td>\n",
       "      <td>N10_00011</td>\n",
       "      <td>N10-5</td>\n",
       "      <td>0</td>\n",
       "    </tr>\n",
       "  </tbody>\n",
       "</table>\n",
       "</div>"
      ],
      "text/plain": [
       "         Ba        Br        Ca        Cl        Fe         K        Rb  \\\n",
       "0 -1.086255 -6.090201  2.662380  0.423029  1.686334  1.808210 -1.269920   \n",
       "1 -1.398651 -4.147523  2.654872  0.239180  1.455979  1.708623 -1.091166   \n",
       "2 -1.412732 -3.639810  2.660476  0.352536  1.500790  1.853252 -1.162507   \n",
       "3 -1.114063 -5.958250  3.292176  0.435341  1.689059  1.961470 -1.373283   \n",
       "4 -1.363775 -2.932391  3.139962 -0.005651  1.265813  1.567048 -1.951562   \n",
       "\n",
       "          S        Si        Sr        Ti        Zr composite_id core_section  \\\n",
       "0 -2.047150  2.526294 -1.027606  1.159724  1.255163    N10_00003        N10-5   \n",
       "1 -2.538085  2.320370 -0.903954  0.705483  0.994871    N10_00005        N10-5   \n",
       "2 -4.091795  2.520246 -0.704986  1.072991  1.051538    N10_00007        N10-5   \n",
       "3 -3.393301  2.567903 -0.537715  1.513682  0.916982    N10_00009        N10-5   \n",
       "4 -3.114712  2.199872 -0.804159  1.137206  0.862349    N10_00011        N10-5   \n",
       "\n",
       "   facies_merge_2  \n",
       "0               0  \n",
       "1               0  \n",
       "2               0  \n",
       "3               0  \n",
       "4               0  "
      ]
     },
     "execution_count": 11,
     "metadata": {},
     "output_type": "execute_result"
    }
   ],
   "source": [
    "norm_df = pd.concat(\n",
    "    [pd.DataFrame(x, columns = data_df.columns[6:]), data_df[['composite_id', 'core_section', 'facies_merge_2']]],\n",
    "    join = 'inner', axis = 1\n",
    ")\n",
    "#norm_df.set_index('composite_id', inplace=True)\n",
    "norm_df.head()"
   ]
  },
  {
   "cell_type": "code",
   "execution_count": 37,
   "metadata": {},
   "outputs": [],
   "source": [
    "norm_df.set_index('composite_id').to_csv('data/XRF_ML_c.csv')"
   ]
  },
  {
   "cell_type": "code",
   "execution_count": 12,
   "metadata": {},
   "outputs": [
    {
     "data": {
      "text/plain": [
       "(158909, 15)"
      ]
     },
     "execution_count": 12,
     "metadata": {},
     "output_type": "execute_result"
    }
   ],
   "source": [
    "# make sure the order is sorted by the composite_id and then the order within section is sorted by the section depth simutaniously.\n",
    "norm_df = norm_df.sort_values('composite_id')\n",
    "norm_df.shape"
   ]
  },
  {
   "cell_type": "markdown",
   "metadata": {},
   "source": [
    "# Build 2D data\n",
    "Combine adjecent data points into each data point to be 2D array, like image. And then ravel it into 1D array in each data point. I adopt 17 data points to be adjecent data points, consistent to the rolling trick."
   ]
  },
  {
   "cell_type": "code",
   "execution_count": 28,
   "metadata": {},
   "outputs": [
    {
     "data": {
      "text/plain": [
       "True"
      ]
     },
     "execution_count": 28,
     "metadata": {},
     "output_type": "execute_result"
    }
   ],
   "source": [
    "index = 8\n",
    "len(norm_df.iloc[index-8: index+9, :-3].values.ravel()) == (17*12)"
   ]
  },
  {
   "cell_type": "code",
   "execution_count": 13,
   "metadata": {},
   "outputs": [
    {
     "name": "stdout",
     "output_type": "stream",
     "text": [
      "CPU times: user 24.1 s, sys: 637 ms, total: 24.8 s\n",
      "Wall time: 26.5 s\n"
     ]
    }
   ],
   "source": [
    "%%time\n",
    "X = []\n",
    "id_list = []\n",
    "for section in norm_df.core_section.unique():\n",
    "    for index in norm_df.index[norm_df.core_section == section][8:-8]:\n",
    "        X.append(norm_df.iloc[index-8: index+9, :-3].values.ravel())\n",
    "        id_list.append(index)\n",
    "#ravel_df = pd.DataFrame(X, index=id_list)"
   ]
  },
  {
   "cell_type": "code",
   "execution_count": 17,
   "metadata": {},
   "outputs": [
    {
     "data": {
      "text/plain": [
       "(153357, 204)"
      ]
     },
     "execution_count": 17,
     "metadata": {},
     "output_type": "execute_result"
    }
   ],
   "source": [
    "X_arr = np.array(X)\n",
    "X_arr.shape"
   ]
  },
  {
   "cell_type": "code",
   "execution_count": 22,
   "metadata": {},
   "outputs": [],
   "source": [
    "ravel_df = pd.DataFrame(X_arr, index=id_list)"
   ]
  },
  {
   "cell_type": "code",
   "execution_count": null,
   "metadata": {},
   "outputs": [],
   "source": [
    "# This process can't be executed since the X is too big?\n",
    "out_df = pd.concat([ravel_df.sort_index(), data_df.iloc[:, :6]], join='inner', axis=1).set_index('composite_id')\n",
    "out_df"
   ]
  },
  {
   "cell_type": "code",
   "execution_count": 27,
   "metadata": {},
   "outputs": [
    {
     "data": {
      "text/plain": [
       "238.68429565429688"
      ]
     },
     "execution_count": 27,
     "metadata": {},
     "output_type": "execute_result"
    }
   ],
   "source": [
    "X_arr.nbytes/(1024**2)"
   ]
  },
  {
   "cell_type": "markdown",
   "metadata": {},
   "source": [
    "# Export data\n",
    "Since pd.DataFrame isn't feasible to use, we export the the data using np. Remember, this means there is no header and index in these csv files."
   ]
  },
  {
   "cell_type": "code",
   "execution_count": 28,
   "metadata": {},
   "outputs": [],
   "source": [
    "np.savetxt('data/XRF_ML_ravel_X.csv', X, delimiter=',')\n",
    "np.savetxt('data/XRF_ML_ravel_y.csv', data_df.facies_merge_2[id_list], delimiter=',')\n",
    "np.savetxt('data/XRF_ML_ravel_g.csv', data_df.core_section[id_list], delimiter=',', fmt='%s')\n",
    "np.savetxt('data/XRF_ML_ravel_id.csv', data_df.composite_id[id_list], delimiter=',', fmt='%s')"
   ]
  },
  {
   "cell_type": "code",
   "execution_count": 18,
   "metadata": {},
   "outputs": [
    {
     "data": {
      "text/plain": [
       "array([[-1.08625516, -6.09020147,  2.66238   ,  0.42302864,  1.68633356,\n",
       "         1.80820962, -1.2699199 , -2.0471502 ,  2.52629392, -1.02760644,\n",
       "         1.15972407,  1.25516337],\n",
       "       [-1.39865066, -4.14752286,  2.65487191,  0.23918032,  1.45597877,\n",
       "         1.70862299, -1.09116596, -2.53808495,  2.32036995, -0.90395442,\n",
       "         0.70548349,  0.99487143],\n",
       "       [-1.412732  , -3.63980954,  2.66047572,  0.35253586,  1.50079019,\n",
       "         1.85325191, -1.16250749, -4.09179466,  2.52024637, -0.70498602,\n",
       "         1.07299131,  1.05153834]])"
      ]
     },
     "execution_count": 18,
     "metadata": {},
     "output_type": "execute_result"
    }
   ],
   "source": [
    "x[:3].ravel().reshape(3, 12)"
   ]
  },
  {
   "cell_type": "code",
   "execution_count": 16,
   "metadata": {},
   "outputs": [
    {
     "data": {
      "text/plain": [
       "array([[-1.08625516, -6.09020147,  2.66238   ,  0.42302864,  1.68633356,\n",
       "         1.80820962, -1.2699199 , -2.0471502 ,  2.52629392, -1.02760644,\n",
       "         1.15972407,  1.25516337],\n",
       "       [-1.39865066, -4.14752286,  2.65487191,  0.23918032,  1.45597877,\n",
       "         1.70862299, -1.09116596, -2.53808495,  2.32036995, -0.90395442,\n",
       "         0.70548349,  0.99487143],\n",
       "       [-1.412732  , -3.63980954,  2.66047572,  0.35253586,  1.50079019,\n",
       "         1.85325191, -1.16250749, -4.09179466,  2.52024637, -0.70498602,\n",
       "         1.07299131,  1.05153834]])"
      ]
     },
     "execution_count": 16,
     "metadata": {},
     "output_type": "execute_result"
    }
   ],
   "source": [
    "x[:3]"
   ]
  }
 ],
 "metadata": {
  "kernelspec": {
   "display_name": "Python 3",
   "language": "python",
   "name": "python3"
  },
  "language_info": {
   "codemirror_mode": {
    "name": "ipython",
    "version": 3
   },
   "file_extension": ".py",
   "mimetype": "text/x-python",
   "name": "python",
   "nbconvert_exporter": "python",
   "pygments_lexer": "ipython3",
   "version": "3.7.7"
  }
 },
 "nbformat": 4,
 "nbformat_minor": 4
}
